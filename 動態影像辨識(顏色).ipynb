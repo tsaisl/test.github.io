{
 "cells": [
  {
   "cell_type": "code",
   "execution_count": 18,
   "id": "a3ccdb4b",
   "metadata": {},
   "outputs": [],
   "source": [
    "\n"
   ]
  },
  {
   "cell_type": "code",
   "execution_count": 20,
   "id": "aaf28a0c",
   "metadata": {},
   "outputs": [],
   "source": [
    "import cv2\n",
    "import numpy as np\n",
    "\n",
    "deep_blue = np.array([68,68,137])\n",
    "light_blue = np.array([237,205,255])\n",
    "cap = cv2.VideoCapture(0)\n",
    "\n",
    "if not cap.isOpened():\n",
    "    print('Cannot open camera')\n",
    "    exit()\n",
    "while True:\n",
    "#   讀取攝像頭影像     \n",
    "    ret,frame = cap.read()\n",
    "    \n",
    "#   將影像轉為HSV色彩空間(色相hue、飽和度saturation、明度value)\n",
    "    hsv = cv2.cvtColor(frame,cv2.COLOR_BGR2HSV)\n",
    "    \n",
    "#   把指定顏色以外的範圍變成全黑 、其餘全白(inrange)\n",
    "    mask  = cv2.inRange(hsv,deep_blue,light_blue)\n",
    "    \n",
    "#   檢索外層輪廓、保留端點\n",
    "    contours, _ = cv2.findContours(mask,cv2.RETR_EXTERNAL,cv2.CHAIN_APPROX_SIMPLE)\n",
    "    \n",
    "#   key 取面積，返回最大面積值\n",
    "    if len(contours) >0:\n",
    "        max_contour= max(contours,key = cv2.contourArea)\n",
    "    \n",
    "#   boundingrect 返回最大矩形\n",
    "        x,y,w,h = cv2.boundingRect(max_contour)\n",
    "    \n",
    "#   劃出框線(w寬 h高 起始座標x,y)\n",
    "        cv2.rectangle(frame,(x,y),(x+w,y+h),(0,255,0),2)\n",
    "    cv2.imshow('Color Tracking', frame)\n",
    "\n",
    "#   按下 'q' 鍵退出迴圈\n",
    "    if cv2.waitKey(1) & 0xFF == ord('q'):\n",
    "        break\n",
    "    \n",
    "cap.release()\n",
    "cv2.destroyAllWindows()"
   ]
  },
  {
   "cell_type": "code",
   "execution_count": null,
   "id": "b66d4bb2",
   "metadata": {},
   "outputs": [],
   "source": []
  },
  {
   "cell_type": "code",
   "execution_count": null,
   "id": "60018df8",
   "metadata": {},
   "outputs": [],
   "source": []
  }
 ],
 "metadata": {
  "kernelspec": {
   "display_name": "Python 3 (ipykernel)",
   "language": "python",
   "name": "python3"
  },
  "language_info": {
   "codemirror_mode": {
    "name": "ipython",
    "version": 3
   },
   "file_extension": ".py",
   "mimetype": "text/x-python",
   "name": "python",
   "nbconvert_exporter": "python",
   "pygments_lexer": "ipython3",
   "version": "3.9.7"
  }
 },
 "nbformat": 4,
 "nbformat_minor": 5
}
